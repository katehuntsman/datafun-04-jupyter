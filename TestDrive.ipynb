## Test Drive
{
 "cells": [
  {
   "cell_type": "code",
   "execution_count": 10,
   "metadata": {},
   "outputs": [
    {
     "name": "stdout",
     "output_type": "stream",
     "text": [
      "Hello, World! Excited to keep learning about notebooks!\n"
     ]
    }
   ],
   "source": [
    "print(\"Hello, World! Excited to keep learning about notebooks!\")"
   ]
  },
  {
   "cell_type": "code",
   "execution_count": 11,
   "metadata": {},
   "outputs": [
    {
     "data": {
      "text/plain": [
       "[1, 4, 9, 16, 25]"
      ]
     },
     "execution_count": 11,
     "metadata": {},
     "output_type": "execute_result"
    }
   ],
   "source": [
    "# List manipulation\n",
    "my_list = [1, 2, 3, 4, 5]\n",
    "squared_list = [x**2 for x in my_list]\n",
    "squared_list\n"
   ]
  },
  {
   "cell_type": "code",
   "execution_count": 12,
   "metadata": {},
   "outputs": [
    {
     "data": {
      "text/plain": [
       "'!retypuJ ,olleH'"
      ]
     },
     "execution_count": 12,
     "metadata": {},
     "output_type": "execute_result"
    }
   ],
   "source": [
    "# String manipulation\n",
    "text = \"Hello, Jupyter!\"\n",
    "reversed_text = text[::-1]\n",
    "reversed_text\n",
    "\n"
   ]
  },
  {
   "cell_type": "code",
   "execution_count": 13,
   "metadata": {},
   "outputs": [
    {
     "data": {
      "text/plain": [
       "'Hello, Alice!'"
      ]
     },
     "execution_count": 13,
     "metadata": {},
     "output_type": "execute_result"
    }
   ],
   "source": [
    "# Function definition\n",
    "def greet(name):\n",
    "    return f\"Hello, {name}!\"\n",
    "\n",
    "greet(\"Alice\")\n"
   ]
  },
  {
   "cell_type": "code",
   "execution_count": 14,
   "metadata": {},
   "outputs": [
    {
     "data": {
      "text/plain": [
       "5.0"
      ]
     },
     "execution_count": 14,
     "metadata": {},
     "output_type": "execute_result"
    }
   ],
   "source": [
    "# Advanced mathematical function\n",
    "import math\n",
    "\n",
    "value = math.sqrt(25)\n",
    "value\n"
   ]
  },
  {
   "cell_type": "code",
   "execution_count": 15,
   "metadata": {},
   "outputs": [
    {
     "data": {
      "text/plain": [
       "(dict_keys(['name', 'age', 'city', 'job']),\n",
       " dict_values(['Alice', 31, 'New York', 'Engineer']))"
      ]
     },
     "execution_count": 15,
     "metadata": {},
     "output_type": "execute_result"
    }
   ],
   "source": [
    "# Dictionary manipulation\n",
    "person = {\n",
    "    'name': 'Alice',\n",
    "    'age': 30,\n",
    "    'city': 'New York'\n",
    "}\n",
    "\n",
    "# Add a new key-value pair\n",
    "person['job'] = 'Engineer'\n",
    "\n",
    "# Update an existing value\n",
    "person['age'] = 31\n",
    "\n",
    "# Retrieve all keys and values\n",
    "keys = person.keys()\n",
    "values = person.values()\n",
    "\n",
    "keys, values\n"
   ]
  },
  {
   "cell_type": "code",
   "execution_count": 16,
   "metadata": {},
   "outputs": [
    {
     "data": {
      "text/plain": [
       "('2024-09-11 12:24:16', '2024-09-21 12:24:16')"
      ]
     },
     "execution_count": 16,
     "metadata": {},
     "output_type": "execute_result"
    }
   ],
   "source": [
    "# Datetime operations\n",
    "from datetime import datetime, timedelta\n",
    "\n",
    "# Current date and time\n",
    "now = datetime.now()\n",
    "\n",
    "# Calculate the date 10 days from now\n",
    "future_date = now + timedelta(days=10)\n",
    "\n",
    "# Format dates\n",
    "formatted_now = now.strftime('%Y-%m-%d %H:%M:%S')\n",
    "formatted_future_date = future_date.strftime('%Y-%m-%d %H:%M:%S')\n",
    "\n",
    "formatted_now, formatted_future_date\n"
   ]
  }
 ],
 "metadata": {
  "kernelspec": {
   "display_name": ".venv",
   "language": "python",
   "name": "python3"
  },
  "language_info": {
   "codemirror_mode": {
    "name": "ipython",
    "version": 3
   },
   "file_extension": ".py",
   "mimetype": "text/x-python",
   "name": "python",
   "nbconvert_exporter": "python",
   "pygments_lexer": "ipython3",
   "version": "3.12.5"
  }
 },
 "nbformat": 4,
 "nbformat_minor": 2
}
